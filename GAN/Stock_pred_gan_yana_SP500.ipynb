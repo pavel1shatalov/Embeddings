{
 "cells": [
  {
   "cell_type": "code",
   "execution_count": null,
   "metadata": {
    "id": "fqOVqJlvu5Si"
   },
   "outputs": [],
   "source": [
    ""
   ]
  },
  {
   "cell_type": "markdown",
   "metadata": {
    "id": "pZFxIOSJvFix"
   },
   "source": [
    "Load data from yahoo finance"
   ]
  },
  {
   "cell_type": "code",
   "execution_count": 3,
   "metadata": {
    "colab": {
     "base_uri": "https://localhost:8080/"
    },
    "id": "Pnb6D9yDwEnd",
    "outputId": "d78f2b3b-5ff3-4430-aae2-fa857e3dbfdd"
   },
   "outputs": [
    {
     "name": "stdout",
     "output_type": "stream",
     "text": [
      "Collecting yfinance\n",
      "  Downloading https://files.pythonhosted.org/packages/a7/ee/315752b9ef281ba83c62aa7ec2e2074f85223da6e7e74efb4d3e11c0f510/yfinance-0.1.59.tar.gz\n",
      "Requirement already satisfied: pandas>=0.24 in /usr/local/lib/python3.7/dist-packages (from yfinance) (1.1.5)\n",
      "Requirement already satisfied: numpy>=1.15 in /usr/local/lib/python3.7/dist-packages (from yfinance) (1.19.5)\n",
      "Requirement already satisfied: requests>=2.20 in /usr/local/lib/python3.7/dist-packages (from yfinance) (2.23.0)\n",
      "Requirement already satisfied: multitasking>=0.0.7 in /usr/local/lib/python3.7/dist-packages (from yfinance) (0.0.9)\n",
      "Collecting lxml>=4.5.1\n",
      "\u001b[?25l  Downloading https://files.pythonhosted.org/packages/30/c0/d0526314971fc661b083ab135747dc68446a3022686da8c16d25fcf6ef07/lxml-4.6.3-cp37-cp37m-manylinux2014_x86_64.whl (6.3MB)\n",
      "\u001b[K     |████████████████████████████████| 6.3MB 15.7MB/s \n",
      "\u001b[?25hRequirement already satisfied: pytz>=2017.2 in /usr/local/lib/python3.7/dist-packages (from pandas>=0.24->yfinance) (2018.9)\n",
      "Requirement already satisfied: python-dateutil>=2.7.3 in /usr/local/lib/python3.7/dist-packages (from pandas>=0.24->yfinance) (2.8.1)\n",
      "Requirement already satisfied: certifi>=2017.4.17 in /usr/local/lib/python3.7/dist-packages (from requests>=2.20->yfinance) (2020.12.5)\n",
      "Requirement already satisfied: urllib3!=1.25.0,!=1.25.1,<1.26,>=1.21.1 in /usr/local/lib/python3.7/dist-packages (from requests>=2.20->yfinance) (1.24.3)\n",
      "Requirement already satisfied: chardet<4,>=3.0.2 in /usr/local/lib/python3.7/dist-packages (from requests>=2.20->yfinance) (3.0.4)\n",
      "Requirement already satisfied: idna<3,>=2.5 in /usr/local/lib/python3.7/dist-packages (from requests>=2.20->yfinance) (2.10)\n",
      "Requirement already satisfied: six>=1.5 in /usr/local/lib/python3.7/dist-packages (from python-dateutil>=2.7.3->pandas>=0.24->yfinance) (1.15.0)\n",
      "Building wheels for collected packages: yfinance\n",
      "  Building wheel for yfinance (setup.py) ... \u001b[?25l\u001b[?25hdone\n",
      "  Created wheel for yfinance: filename=yfinance-0.1.59-py2.py3-none-any.whl size=23442 sha256=aa4d3f2e9c9826620d52570b8b563875cd39ec4d8720a80ed5f971cc2308b81e\n",
      "  Stored in directory: /root/.cache/pip/wheels/f8/2a/0f/4b5a86e1d52e451757eb6bc17fd899629f0925c777741b6d04\n",
      "Successfully built yfinance\n",
      "Installing collected packages: lxml, yfinance\n",
      "  Found existing installation: lxml 4.2.6\n",
      "    Uninstalling lxml-4.2.6:\n",
      "      Successfully uninstalled lxml-4.2.6\n",
      "Successfully installed lxml-4.6.3 yfinance-0.1.59\n"
     ]
    }
   ],
   "source": [
    "!pip install yfinance"
   ]
  },
  {
   "cell_type": "code",
   "execution_count": 4,
   "metadata": {
    "id": "F8CQXHEHu_IY"
   },
   "outputs": [],
   "source": [
    "import warnings\n",
    "warnings.filterwarnings('ignore')\n",
    "import numpy as np\n",
    "import pandas as pd\n",
    "from datetime import datetime\n",
    "import yfinance as yf"
   ]
  },
  {
   "cell_type": "code",
   "execution_count": null,
   "metadata": {
    "id": "eawfAkspwMyc"
   },
   "outputs": [],
   "source": [
    ""
   ]
  },
  {
   "cell_type": "code",
   "execution_count": 5,
   "metadata": {
    "colab": {
     "base_uri": "https://localhost:8080/"
    },
    "id": "RzwiOXKVu_Ly",
    "outputId": "9ce1e8d3-b16c-4fd5-923a-c1531d9c1167"
   },
   "outputs": [
    {
     "name": "stdout",
     "output_type": "stream",
     "text": [
      "\r[*********************100%***********************]  1 of 1 completed\n"
     ]
    },
    {
     "data": {
      "text/plain": [
       "(2769, 7)"
      ]
     },
     "execution_count": 5,
     "metadata": {
      "tags": []
     },
     "output_type": "execute_result"
    }
   ],
   "source": [
    "#SP500\n",
    "# ticker '000001.SS'\n",
    "SP500=yf.download('^GSPC','2010-01-05',end='2021-01-05')\n",
    "SP500=SP500.reset_index()\n",
    "SP500.shape\n"
   ]
  },
  {
   "cell_type": "code",
   "execution_count": 3,
   "metadata": {
    "colab": {
     "base_uri": "https://localhost:8080/"
    },
    "id": "szv88FnrChkG",
    "outputId": "c5dad4ae-77d1-4bde-8ca7-8abbaa4e6325"
   },
   "outputs": [
    {
     "data": {
      "text/plain": [
       "Date        Open         High         Low          Close        Adj Close    Volume    \n",
       "2021-01-04  3764.610107  3769.989990  3662.709961  3700.649902  3700.649902  5006680000    1\n",
       "2013-08-28  1630.250000  1641.180054  1627.469971  1634.959961  1634.959961  2784010000    1\n",
       "2013-09-10  1675.109985  1684.089966  1675.109985  1683.989990  1683.989990  3691800000    1\n",
       "2013-09-09  1656.849976  1672.400024  1656.849976  1671.709961  1671.709961  3102780000    1\n",
       "2013-09-06  1657.439941  1664.829956  1640.619995  1655.170044  1655.170044  3123880000    1\n",
       "                                                                                          ..\n",
       "2017-05-03  2386.500000  2389.820068  2379.750000  2388.129883  2388.129883  3893990000    1\n",
       "2017-05-02  2391.050049  2392.929932  2385.820068  2391.169922  2391.169922  3813680000    1\n",
       "2017-05-01  2388.500000  2394.489990  2384.830078  2388.330078  2388.330078  3199240000    1\n",
       "2017-04-28  2393.679932  2393.679932  2382.360107  2384.199951  2384.199951  3718270000    1\n",
       "2010-01-05  1132.660034  1136.630005  1129.660034  1136.520020  1136.520020  2491020000    1\n",
       "Length: 2769, dtype: int64"
      ]
     },
     "execution_count": 3,
     "metadata": {
      "tags": []
     },
     "output_type": "execute_result"
    }
   ],
   "source": [
    ""
   ]
  },
  {
   "cell_type": "code",
   "execution_count": 6,
   "metadata": {
    "colab": {
     "base_uri": "https://localhost:8080/",
     "height": 204.0
    },
    "id": "5yUZzkiDBLIT",
    "outputId": "416fc582-8789-412b-9b24-a7c3b00d0742"
   },
   "outputs": [
    {
     "data": {
      "text/html": [
       "<div>\n",
       "<style scoped>\n",
       "    .dataframe tbody tr th:only-of-type {\n",
       "        vertical-align: middle;\n",
       "    }\n",
       "\n",
       "    .dataframe tbody tr th {\n",
       "        vertical-align: top;\n",
       "    }\n",
       "\n",
       "    .dataframe thead th {\n",
       "        text-align: right;\n",
       "    }\n",
       "</style>\n",
       "<table border=\"1\" class=\"dataframe\">\n",
       "  <thead>\n",
       "    <tr style=\"text-align: right;\">\n",
       "      <th></th>\n",
       "      <th>Date</th>\n",
       "      <th>Open</th>\n",
       "      <th>High</th>\n",
       "      <th>Low</th>\n",
       "      <th>Close</th>\n",
       "      <th>Adj Close</th>\n",
       "      <th>Volume</th>\n",
       "    </tr>\n",
       "  </thead>\n",
       "  <tbody>\n",
       "    <tr>\n",
       "      <th>0</th>\n",
       "      <td>2010-01-05</td>\n",
       "      <td>1132.660034</td>\n",
       "      <td>1136.630005</td>\n",
       "      <td>1129.660034</td>\n",
       "      <td>1136.520020</td>\n",
       "      <td>1136.520020</td>\n",
       "      <td>2491020000</td>\n",
       "    </tr>\n",
       "    <tr>\n",
       "      <th>1</th>\n",
       "      <td>2010-01-06</td>\n",
       "      <td>1135.709961</td>\n",
       "      <td>1139.189941</td>\n",
       "      <td>1133.949951</td>\n",
       "      <td>1137.140015</td>\n",
       "      <td>1137.140015</td>\n",
       "      <td>4972660000</td>\n",
       "    </tr>\n",
       "    <tr>\n",
       "      <th>2</th>\n",
       "      <td>2010-01-07</td>\n",
       "      <td>1136.270020</td>\n",
       "      <td>1142.459961</td>\n",
       "      <td>1131.319946</td>\n",
       "      <td>1141.689941</td>\n",
       "      <td>1141.689941</td>\n",
       "      <td>5270680000</td>\n",
       "    </tr>\n",
       "    <tr>\n",
       "      <th>3</th>\n",
       "      <td>2010-01-08</td>\n",
       "      <td>1140.520020</td>\n",
       "      <td>1145.390015</td>\n",
       "      <td>1136.219971</td>\n",
       "      <td>1144.979980</td>\n",
       "      <td>1144.979980</td>\n",
       "      <td>4389590000</td>\n",
       "    </tr>\n",
       "    <tr>\n",
       "      <th>4</th>\n",
       "      <td>2010-01-11</td>\n",
       "      <td>1145.959961</td>\n",
       "      <td>1149.739990</td>\n",
       "      <td>1142.020020</td>\n",
       "      <td>1146.979980</td>\n",
       "      <td>1146.979980</td>\n",
       "      <td>4255780000</td>\n",
       "    </tr>\n",
       "  </tbody>\n",
       "</table>\n",
       "</div>"
      ],
      "text/plain": [
       "        Date         Open         High  ...        Close    Adj Close      Volume\n",
       "0 2010-01-05  1132.660034  1136.630005  ...  1136.520020  1136.520020  2491020000\n",
       "1 2010-01-06  1135.709961  1139.189941  ...  1137.140015  1137.140015  4972660000\n",
       "2 2010-01-07  1136.270020  1142.459961  ...  1141.689941  1141.689941  5270680000\n",
       "3 2010-01-08  1140.520020  1145.390015  ...  1144.979980  1144.979980  4389590000\n",
       "4 2010-01-11  1145.959961  1149.739990  ...  1146.979980  1146.979980  4255780000\n",
       "\n",
       "[5 rows x 7 columns]"
      ]
     },
     "execution_count": 6,
     "metadata": {
      "tags": []
     },
     "output_type": "execute_result"
    }
   ],
   "source": [
    "SP500.head()"
   ]
  },
  {
   "cell_type": "code",
   "execution_count": 7,
   "metadata": {
    "colab": {
     "base_uri": "https://localhost:8080/"
    },
    "id": "Dg7BbAr1_Fuy",
    "outputId": "b346966f-db07-4d29-e976-1efb7467fc12"
   },
   "outputs": [
    {
     "data": {
      "text/plain": [
       "0       1136.520020\n",
       "1       1136.520020\n",
       "2       1136.830017\n",
       "3       1138.449992\n",
       "4       1140.082489\n",
       "           ...     \n",
       "2764    3696.931982\n",
       "2765    3702.122021\n",
       "2766    3708.546045\n",
       "2767    3717.502051\n",
       "2768    3730.714063\n",
       "Name: Close, Length: 2769, dtype: float64"
      ]
     },
     "execution_count": 7,
     "metadata": {
      "tags": []
     },
     "output_type": "execute_result"
    }
   ],
   "source": [
    "SP500['Close'].shift(1).rolling( window=5,min_periods=1).mean().fillna(SP500['Close'][0])"
   ]
  },
  {
   "cell_type": "code",
   "execution_count": 8,
   "metadata": {
    "id": "fQ6ZT44TNmCi"
   },
   "outputs": [],
   "source": [
    "#(SSE['Close'].shift(1)/5+SSE['Close'].shift(2)/5+SSE['Close'].shift(3)/5+SSE['Close'].shift(4)/5+SSE['Close']/5)\n",
    "SP500['MA5_close']=SP500['Close'].rolling( window=5,min_periods=1).mean()\n",
    "SP500['STD5_close']=SP500['Close'].rolling( window=5,min_periods=1).std()\n",
    "# SP500['MA5_close']=SP500['Close'].shift(1).rolling( window=5,min_periods=1).mean().fillna(SP500['Close'][0])\n",
    "# SP500['STD5_close']=SP500['Close'].shift(1).rolling( window=5,min_periods=1).std().fillna(SP500['Close'].std())\n"
   ]
  },
  {
   "cell_type": "code",
   "execution_count": 9,
   "metadata": {
    "colab": {
     "base_uri": "https://localhost:8080/",
     "height": 204.0
    },
    "id": "Jxq9jN2gSDD3",
    "outputId": "19ad1e60-4862-4a6a-ad89-a3ca20048e3f"
   },
   "outputs": [
    {
     "data": {
      "text/html": [
       "<div>\n",
       "<style scoped>\n",
       "    .dataframe tbody tr th:only-of-type {\n",
       "        vertical-align: middle;\n",
       "    }\n",
       "\n",
       "    .dataframe tbody tr th {\n",
       "        vertical-align: top;\n",
       "    }\n",
       "\n",
       "    .dataframe thead th {\n",
       "        text-align: right;\n",
       "    }\n",
       "</style>\n",
       "<table border=\"1\" class=\"dataframe\">\n",
       "  <thead>\n",
       "    <tr style=\"text-align: right;\">\n",
       "      <th></th>\n",
       "      <th>Date</th>\n",
       "      <th>Open</th>\n",
       "      <th>High</th>\n",
       "      <th>Low</th>\n",
       "      <th>Close</th>\n",
       "      <th>Adj Close</th>\n",
       "      <th>Volume</th>\n",
       "      <th>MA5_close</th>\n",
       "      <th>STD5_close</th>\n",
       "    </tr>\n",
       "  </thead>\n",
       "  <tbody>\n",
       "    <tr>\n",
       "      <th>0</th>\n",
       "      <td>2010-01-05</td>\n",
       "      <td>1132.660034</td>\n",
       "      <td>1136.630005</td>\n",
       "      <td>1129.660034</td>\n",
       "      <td>1136.520020</td>\n",
       "      <td>1136.520020</td>\n",
       "      <td>2491020000</td>\n",
       "      <td>1136.520020</td>\n",
       "      <td>16.439120</td>\n",
       "    </tr>\n",
       "    <tr>\n",
       "      <th>1</th>\n",
       "      <td>2010-01-06</td>\n",
       "      <td>1135.709961</td>\n",
       "      <td>1139.189941</td>\n",
       "      <td>1133.949951</td>\n",
       "      <td>1137.140015</td>\n",
       "      <td>1137.140015</td>\n",
       "      <td>4972660000</td>\n",
       "      <td>1136.830017</td>\n",
       "      <td>0.438403</td>\n",
       "    </tr>\n",
       "    <tr>\n",
       "      <th>2</th>\n",
       "      <td>2010-01-07</td>\n",
       "      <td>1136.270020</td>\n",
       "      <td>1142.459961</td>\n",
       "      <td>1131.319946</td>\n",
       "      <td>1141.689941</td>\n",
       "      <td>1141.689941</td>\n",
       "      <td>5270680000</td>\n",
       "      <td>1138.449992</td>\n",
       "      <td>2.822951</td>\n",
       "    </tr>\n",
       "    <tr>\n",
       "      <th>3</th>\n",
       "      <td>2010-01-08</td>\n",
       "      <td>1140.520020</td>\n",
       "      <td>1145.390015</td>\n",
       "      <td>1136.219971</td>\n",
       "      <td>1144.979980</td>\n",
       "      <td>1144.979980</td>\n",
       "      <td>4389590000</td>\n",
       "      <td>1140.082489</td>\n",
       "      <td>3.996610</td>\n",
       "    </tr>\n",
       "    <tr>\n",
       "      <th>4</th>\n",
       "      <td>2010-01-11</td>\n",
       "      <td>1145.959961</td>\n",
       "      <td>1149.739990</td>\n",
       "      <td>1142.020020</td>\n",
       "      <td>1146.979980</td>\n",
       "      <td>1146.979980</td>\n",
       "      <td>4255780000</td>\n",
       "      <td>1141.461987</td>\n",
       "      <td>4.636243</td>\n",
       "    </tr>\n",
       "  </tbody>\n",
       "</table>\n",
       "</div>"
      ],
      "text/plain": [
       "        Date         Open         High  ...      Volume    MA5_close  STD5_close\n",
       "0 2010-01-05  1132.660034  1136.630005  ...  2491020000  1136.520020   16.439120\n",
       "1 2010-01-06  1135.709961  1139.189941  ...  4972660000  1136.830017    0.438403\n",
       "2 2010-01-07  1136.270020  1142.459961  ...  5270680000  1138.449992    2.822951\n",
       "3 2010-01-08  1140.520020  1145.390015  ...  4389590000  1140.082489    3.996610\n",
       "4 2010-01-11  1145.959961  1149.739990  ...  4255780000  1141.461987    4.636243\n",
       "\n",
       "[5 rows x 9 columns]"
      ]
     },
     "execution_count": 9,
     "metadata": {
      "tags": []
     },
     "output_type": "execute_result"
    }
   ],
   "source": [
    "#fill nan\n",
    "SP500['STD5_close'][0]=SP500['STD5_close'].mean()\n",
    "SP500.head()"
   ]
  },
  {
   "cell_type": "code",
   "execution_count": 10,
   "metadata": {
    "id": "lcgXrgq_u_O1"
   },
   "outputs": [],
   "source": [
    "import torch\n",
    "import torch.nn as nn \n",
    "from torch.utils.data import Dataset, DataLoader\n",
    "\n",
    "class StockDataset(Dataset):\n",
    "\n",
    "    def __init__(self, data, seq_len=5):\n",
    "\n",
    "        super(StockDataset, self).__init__()\n",
    "\n",
    "        self.names = ['Date', 'Open', 'High', 'Low', 'Close', 'Adj Close', 'Volume','MA5_close','STD5_close']\n",
    "        #self.dfs = [pd.read_csv(file, sep='\\t', names=self.names) for file in files]\n",
    "        self.data=data\n",
    "        self.length = len(data) - seq_len\n",
    "        self.seq_len = seq_len\n",
    "\n",
    "    def __len__(self):\n",
    "        return self.length\n",
    "\n",
    "    def __getitem__(self, idx):\n",
    "        \n",
    "       \n",
    "\n",
    "        new_idx = idx if idx < self.length else self.length-1\n",
    "        \n",
    "        data, target = self.generate_batch(self.data, self.seq_len, start_from=new_idx, batch_size=1)\n",
    "\n",
    "        data = torch.from_numpy(data).type(torch.FloatTensor).squeeze()\n",
    "        target = torch.from_numpy(target).type(torch.FloatTensor).squeeze()\n",
    "\n",
    "        return data, target\n",
    "    \n",
    "    def count_number_of_samples(self, filepath, n_features):\n",
    "        df = pd.read_csv(filepath)\n",
    "        return len(df) - n_features - 1\n",
    "\n",
    "    def generate_batch(self, dataframe, seq_len, start_from, batch_size):\n",
    "\n",
    "        data = []\n",
    "        target = []\n",
    "\n",
    "        bs = min(batch_size, len(dataframe) - start_from)\n",
    "\n",
    "        dataframe['Date'] = pd.to_datetime(dataframe['Date'])\n",
    "        df = dataframe.sort_values('Date').drop('Date', axis=1)\n",
    "        # next create ma5 and normaliosation !!!\n",
    "        for column in ['Open', 'High', 'Low', 'Close', 'Adj Close', 'Volume','MA5_close','STD5_close']:\n",
    "          #shifted MA5\n",
    "          df[column]=(df[column]-df[column].rolling(window=5,min_periods=1).mean())/df[column].rolling(window=5,min_periods=1).std().fillna(1)\n",
    "        for i in range(bs):\n",
    "            tar = df['Close'][start_from + seq_len + i]\n",
    "           \n",
    "            data_row = df[start_from + i:start_from + seq_len + i].values\n",
    "            \n",
    "            target.append(tar)\n",
    "            data.append(data_row)\n",
    "\n",
    "        target = np.array(target).ravel()\n",
    "        data = np.vstack([elem[None, ...] for elem in data])\n",
    "        \n",
    "       \n",
    "        assert data.shape == (bs, seq_len, df.values.shape[1])\n",
    "        \n",
    "\n",
    "        assert target.shape == (bs,)\n",
    "\n",
    "        return data, target"
   ]
  },
  {
   "cell_type": "code",
   "execution_count": 12,
   "metadata": {
    "id": "MFJ4D0JqwOiY"
   },
   "outputs": [],
   "source": [
    "#  SSE (2670, 7)\n",
    "bs=100 # batch size\n",
    "horizon=5\n",
    "#Divide into train and validation dataset\n",
    "train_dataset=StockDataset(SP500[:2000])\n",
    "val_dataset=StockDataset(SP500[2000:])\n",
    "\n",
    "#creating dataloader \n",
    "train_loader = DataLoader(train_dataset, batch_size=bs, shuffle=True)\n",
    "val_loader = DataLoader(val_dataset, batch_size=bs, shuffle=False)"
   ]
  },
  {
   "cell_type": "code",
   "execution_count": 13,
   "metadata": {
    "colab": {
     "base_uri": "https://localhost:8080/"
    },
    "id": "Wshhkh3XBBb1",
    "outputId": "f7fdf59e-fbdc-44b7-dfe1-710a34aadaa8"
   },
   "outputs": [
    {
     "data": {
      "text/plain": [
       "(2769, 9)"
      ]
     },
     "execution_count": 13,
     "metadata": {
      "tags": []
     },
     "output_type": "execute_result"
    }
   ],
   "source": [
    "SP500.shape"
   ]
  },
  {
   "cell_type": "code",
   "execution_count": 14,
   "metadata": {
    "colab": {
     "base_uri": "https://localhost:8080/"
    },
    "id": "6AzjpZIjwXAx",
    "outputId": "9cef4c74-a937-449c-9eae-d2807a12c3ae"
   },
   "outputs": [
    {
     "name": "stdout",
     "output_type": "stream",
     "text": [
      "torch.Size([100, 5, 8])\n",
      "torch.Size([100])\n"
     ]
    }
   ],
   "source": [
    "for data, target in train_loader:\n",
    "    print(data.shape)\n",
    "    print(target.shape)\n",
    "    break"
   ]
  },
  {
   "cell_type": "markdown",
   "metadata": {
    "id": "PudRwD0TwgNu"
   },
   "source": [
    "Models Generator and Discriminator"
   ]
  },
  {
   "cell_type": "code",
   "execution_count": 15,
   "metadata": {
    "id": "-ZhHwAaywfto"
   },
   "outputs": [],
   "source": [
    "class Generator(nn.Module):\n",
    "    def __init__(self,input_size=7, hidden_size=horizon):\n",
    "        super().__init__()\n",
    "        # input size: (seq_len, batch, input_size)\n",
    "        #output of shape (seq_len, batch, num_directions * hidden_size):\n",
    "        self.lstm=nn.LSTM(input_size=input_size,hidden_size=1,num_layers=1)\n",
    "        #[bs,horizon,7]\n",
    "        self.fulcon=nn.Sequential(nn.Linear(hidden_size,1,bias=True), nn.LeakyReLU(),nn.Dropout())\n",
    "    def forward(self, input_seq):\n",
    "        bs, seq_len=input_seq.shape[0], input_seq.shape[1]\n",
    "        input_seq=input_seq.permute(1,0,2)\n",
    "        out,_=self.lstm(input_seq)\n",
    "        out=out.permute(1,0,2)\n",
    "       \n",
    "        out=out.reshape(bs,seq_len)\n",
    "        y=self.fulcon(out)\n",
    "        #[bs,1]\n",
    "        return y"
   ]
  },
  {
   "cell_type": "code",
   "execution_count": 18,
   "metadata": {
    "id": "9Fg6kY-Rwp51"
   },
   "outputs": [],
   "source": [
    "if torch.cuda.is_available():\n",
    "    device = torch.device('cuda')\n",
    "else:\n",
    "    device = torch.device('cpu')\n",
    "#DEVICE = torch.device(\"cuda\" if torch.cuda.is_available() else \"cpu\")    \n",
    "horizon=5 #predict for 5 days\n",
    "generator=Generator(input_size=8, hidden_size=horizon)\n",
    "bs=100\n",
    "N_epochs=10\n",
    "criteria=nn.BCEWithLogitsLoss()\n",
    "Discriminator=nn.Sequential(\n",
    "    nn.Linear(horizon+1,72,bias=True),\n",
    "    nn.LeakyReLU(),\n",
    "    nn.Linear(72,100,bias=True),\n",
    "    nn.LeakyReLU(),\n",
    "    nn.Linear(100,10,bias=True),\n",
    "    nn.LeakyReLU(),\n",
    "    nn.Linear(10,1,bias=True),\n",
    "    #nn.Sigmoid()\n",
    "    \n",
    ")\n",
    "Discriminator=Discriminator.to(device)\n",
    "generator=generator.to(device)\n",
    "D_opt = torch.optim.Adam(Discriminator.parameters(), lr=0.001, betas=(0.0, 0.999))\n",
    "G_opt = torch.optim.Adam(generator.parameters(), lr=0.001, betas=(0.0, 0.999))\n",
    "\n",
    "#Validation\n",
    "val_dataset=StockDataset(SP500[2000:])\n",
    "val_dataset.data=val_dataset.data.reset_index().drop('index',axis=1)\n",
    "val_loader = DataLoader(val_dataset, batch_size=1, shuffle=False)"
   ]
  },
  {
   "cell_type": "markdown",
   "metadata": {
    "id": "gLi7AS_swv83"
   },
   "source": [
    "Training loop"
   ]
  },
  {
   "cell_type": "code",
   "execution_count": 19,
   "metadata": {
    "colab": {
     "base_uri": "https://localhost:8080/"
    },
    "id": "0k_Ls__Qwxi3",
    "outputId": "bb9d6745-face-46d0-e134-7aca3f9a7513"
   },
   "outputs": [
    {
     "name": "stdout",
     "output_type": "stream",
     "text": [
      "Epoch: 0\n",
      "train loss Discriminator 1.3938308954238892\n",
      "train loss Generator 0.2172316014766693\n",
      "Epoch: 0\n",
      "train loss Discriminator 1.3919198513031006\n",
      "train loss Generator 0.05725869536399841\n",
      "Epoch: 0\n",
      "train loss Discriminator 1.3904352188110352\n",
      "train loss Generator 0.1430959403514862\n",
      "Epoch: 0\n",
      "train loss Discriminator 1.3871357440948486\n",
      "train loss Generator 0.3062230944633484\n",
      "Epoch: 0\n",
      "train loss Discriminator 1.3853607177734375\n",
      "train loss Generator 0.3062230944633484\n",
      "Epoch: 0\n",
      "train loss Discriminator 1.3855541944503784\n",
      "train loss Generator 0.18890851736068726\n",
      "Epoch: 0\n",
      "train loss Discriminator 1.3818283081054688\n",
      "train loss Generator 0.1803586184978485\n",
      "Epoch: 0\n",
      "train loss Discriminator 1.3782024383544922\n",
      "train loss Generator 0.2642931342124939\n",
      "Epoch: 0\n",
      "train loss Discriminator 1.3708484172821045\n",
      "train loss Generator 0.26759713888168335\n",
      "Epoch: 0\n",
      "train loss Discriminator 1.3683390617370605\n",
      "train loss Generator 0.26759713888168335\n",
      "Epoch: 0\n",
      "train loss Discriminator 1.3721942901611328\n",
      "train loss Generator 0.15163743495941162\n",
      "Epoch: 0\n",
      "train loss Discriminator 1.370786428451538\n",
      "train loss Generator 0.2076360583305359\n",
      "Epoch: 0\n",
      "train loss Discriminator 1.3618696928024292\n",
      "train loss Generator 0.1581331491470337\n",
      "Epoch: 0\n",
      "train loss Discriminator 1.3478600978851318\n",
      "train loss Generator 0.24853453040122986\n",
      "Epoch: 0\n",
      "train loss Discriminator 1.3481889963150024\n",
      "train loss Generator 0.24853453040122986\n",
      "Epoch: 0\n",
      "train loss Discriminator 1.3497029542922974\n",
      "train loss Generator 0.20322930812835693\n",
      "Epoch: 0\n",
      "train loss Discriminator 1.343011498451233\n",
      "train loss Generator 0.24908539652824402\n",
      "Epoch: 0\n",
      "train loss Discriminator 1.322138786315918\n",
      "train loss Generator 0.19007930159568787\n",
      "Epoch: 0\n",
      "train loss Discriminator 1.3099644184112549\n",
      "train loss Generator 0.4008825719356537\n",
      "Epoch : 0 , MAE val:  0.8891280523128929\n",
      "Epoch : 0 , RMSE val:  0.8891280523128929\n",
      "Epoch : 0 , MAPE val:  -0.25118002652572174\n",
      "Epoch : 0 , AR val:  -0.03059517087959251\n",
      "Epoch: 1\n",
      "train loss Discriminator 1.3059461116790771\n",
      "train loss Generator 0.24863320589065552\n",
      "Epoch: 1\n",
      "train loss Discriminator 1.3082013130187988\n",
      "train loss Generator 0.21931007504463196\n",
      "Epoch: 1\n",
      "train loss Discriminator 1.3024070262908936\n",
      "train loss Generator 0.17892637848854065\n",
      "Epoch: 1\n",
      "train loss Discriminator 1.2959299087524414\n",
      "train loss Generator 0.07992804050445557\n",
      "Epoch: 1\n",
      "train loss Discriminator 1.2756675481796265\n",
      "train loss Generator 0.07992804050445557\n",
      "Epoch: 1\n",
      "train loss Discriminator 1.2493562698364258\n",
      "train loss Generator 0.16673585772514343\n",
      "Epoch: 1\n",
      "train loss Discriminator 1.232521891593933\n",
      "train loss Generator 0.2737485468387604\n",
      "Epoch: 1\n",
      "train loss Discriminator 1.2251884937286377\n",
      "train loss Generator 0.19174665212631226\n",
      "Epoch: 1\n",
      "train loss Discriminator 1.2130688428878784\n",
      "train loss Generator 0.21817263960838318\n",
      "Epoch: 1\n",
      "train loss Discriminator 1.1559867858886719\n",
      "train loss Generator 0.21817263960838318\n",
      "Epoch: 1\n",
      "train loss Discriminator 1.169316053390503\n",
      "train loss Generator 0.2771889567375183\n",
      "Epoch: 1\n",
      "train loss Discriminator 1.1395577192306519\n",
      "train loss Generator 0.26060453057289124\n",
      "Epoch: 1\n",
      "train loss Discriminator 1.1389286518096924\n",
      "train loss Generator 0.25608205795288086\n",
      "Epoch: 1\n",
      "train loss Discriminator 1.1268179416656494\n",
      "train loss Generator 0.28919529914855957\n",
      "Epoch: 1\n",
      "train loss Discriminator 1.0755529403686523\n",
      "train loss Generator 0.28919529914855957\n",
      "Epoch: 1\n",
      "train loss Discriminator 1.0548418760299683\n",
      "train loss Generator 0.3936408460140228\n",
      "Epoch: 1\n",
      "train loss Discriminator 1.074204683303833\n",
      "train loss Generator 0.3045961856842041\n",
      "Epoch: 1\n",
      "train loss Discriminator 1.003021478652954\n",
      "train loss Generator 0.3618079125881195\n",
      "Epoch: 1\n",
      "train loss Discriminator 1.0471630096435547\n",
      "train loss Generator 0.2564779818058014\n",
      "Epoch : 1 , MAE val:  0.8894139336402581\n",
      "Epoch : 1 , RMSE val:  0.8894139336402581\n",
      "Epoch : 1 , MAPE val:  -0.2321134652473558\n",
      "Epoch : 1 , AR val:  -0.028431264467556932\n",
      "Epoch: 2\n",
      "train loss Discriminator 1.034098744392395\n",
      "train loss Generator 0.2815665900707245\n",
      "Epoch: 2\n",
      "train loss Discriminator 1.0178942680358887\n",
      "train loss Generator 0.27344661951065063\n",
      "Epoch: 2\n",
      "train loss Discriminator 1.0002561807632446\n",
      "train loss Generator 0.3829868733882904\n",
      "Epoch: 2\n",
      "train loss Discriminator 0.9242702126502991\n",
      "train loss Generator 0.43269824981689453\n",
      "Epoch: 2\n",
      "train loss Discriminator 0.9967819452285767\n",
      "train loss Generator 0.43269824981689453\n",
      "Epoch: 2\n",
      "train loss Discriminator 0.9863722920417786\n",
      "train loss Generator 0.3417234718799591\n",
      "Epoch: 2\n",
      "train loss Discriminator 0.9303520917892456\n",
      "train loss Generator 0.2709883451461792\n",
      "Epoch: 2\n",
      "train loss Discriminator 0.9740886092185974\n",
      "train loss Generator 0.31473439931869507\n",
      "Epoch: 2\n",
      "train loss Discriminator 0.8397769927978516\n",
      "train loss Generator 0.41804295778274536\n",
      "Epoch: 2\n",
      "train loss Discriminator 0.9268724918365479\n",
      "train loss Generator 0.41804295778274536\n",
      "Epoch: 2\n",
      "train loss Discriminator 0.8755855560302734\n",
      "train loss Generator 0.4310275912284851\n",
      "Epoch: 2\n",
      "train loss Discriminator 0.9631737470626831\n",
      "train loss Generator 0.16066402196884155\n",
      "Epoch: 2\n",
      "train loss Discriminator 0.9136704206466675\n",
      "train loss Generator 0.3312922716140747\n",
      "Epoch: 2\n",
      "train loss Discriminator 0.8470138311386108\n",
      "train loss Generator 0.32472240924835205\n",
      "Epoch: 2\n",
      "train loss Discriminator 0.9281540513038635\n",
      "train loss Generator 0.32472240924835205\n",
      "Epoch: 2\n",
      "train loss Discriminator 0.9218327403068542\n",
      "train loss Generator 0.45315152406692505\n",
      "Epoch: 2\n",
      "train loss Discriminator 0.9240879416465759\n",
      "train loss Generator 0.30043187737464905\n",
      "Epoch: 2\n",
      "train loss Discriminator 0.8474117517471313\n",
      "train loss Generator 0.3371938467025757\n",
      "Epoch: 2\n",
      "train loss Discriminator 0.9363983869552612\n",
      "train loss Generator 0.34234005212783813\n",
      "Epoch : 2 , MAE val:  0.8867931396612673\n",
      "Epoch : 2 , RMSE val:  0.8867931396612673\n",
      "Epoch : 2 , MAPE val:  -0.23343911456402527\n",
      "Epoch : 2 , AR val:  -0.0349533399567008\n",
      "Epoch: 3\n",
      "train loss Discriminator 0.7966874837875366\n",
      "train loss Generator 0.43110495805740356\n",
      "Epoch: 3\n",
      "train loss Discriminator 0.8348634839057922\n",
      "train loss Generator 0.36106035113334656\n",
      "Epoch: 3\n",
      "train loss Discriminator 0.8700703382492065\n",
      "train loss Generator 0.4142075777053833\n",
      "Epoch: 3\n",
      "train loss Discriminator 0.8144819736480713\n",
      "train loss Generator 0.25749778747558594\n",
      "Epoch: 3\n",
      "train loss Discriminator 0.7969831824302673\n",
      "train loss Generator 0.25749778747558594\n",
      "Epoch: 3\n",
      "train loss Discriminator 0.865779459476471\n",
      "train loss Generator 0.33075225353240967\n",
      "Epoch: 3\n",
      "train loss Discriminator 0.7805992364883423\n",
      "train loss Generator 0.4625820517539978\n",
      "Epoch: 3\n",
      "train loss Discriminator 0.869694709777832\n",
      "train loss Generator 0.2362196147441864\n",
      "Epoch: 3\n",
      "train loss Discriminator 0.8319960832595825\n",
      "train loss Generator 0.44298434257507324\n",
      "Epoch: 3\n",
      "train loss Discriminator 0.8780608177185059\n",
      "train loss Generator 0.44298434257507324\n",
      "Epoch: 3\n",
      "train loss Discriminator 0.8011124134063721\n",
      "train loss Generator 0.40537822246551514\n",
      "Epoch: 3\n",
      "train loss Discriminator 0.8053474426269531\n",
      "train loss Generator 0.4208383560180664\n",
      "Epoch: 3\n",
      "train loss Discriminator 0.8720712661743164\n",
      "train loss Generator 0.38086578249931335\n",
      "Epoch: 3\n",
      "train loss Discriminator 0.7788691520690918\n",
      "train loss Generator 0.389701247215271\n",
      "Epoch: 3\n",
      "train loss Discriminator 0.8654706478118896\n",
      "train loss Generator 0.389701247215271\n",
      "Epoch: 3\n",
      "train loss Discriminator 0.8318523168563843\n",
      "train loss Generator 0.39831000566482544\n",
      "Epoch: 3\n",
      "train loss Discriminator 0.96043860912323\n",
      "train loss Generator 0.2147824764251709\n",
      "Epoch: 3\n",
      "train loss Discriminator 0.8864269852638245\n",
      "train loss Generator 0.3084626793861389\n",
      "Epoch: 3\n",
      "train loss Discriminator 0.8324060440063477\n",
      "train loss Generator 0.4002615809440613\n",
      "Epoch : 3 , MAE val:  0.8826336179389399\n",
      "Epoch : 3 , RMSE val:  0.8826336179389399\n",
      "Epoch : 3 , MAPE val:  -0.2569468952904343\n",
      "Epoch : 3 , AR val:  -0.02447981402146121\n",
      "Epoch: 4\n",
      "train loss Discriminator 0.7929767370223999\n",
      "train loss Generator 0.4252714514732361\n",
      "Epoch: 4\n",
      "train loss Discriminator 0.7985367774963379\n",
      "train loss Generator 0.39678817987442017\n",
      "Epoch: 4\n",
      "train loss Discriminator 0.7841378450393677\n",
      "train loss Generator 0.5053197741508484\n",
      "Epoch: 4\n",
      "train loss Discriminator 0.8393317461013794\n",
      "train loss Generator 0.20739200711250305\n",
      "Epoch: 4\n",
      "train loss Discriminator 0.8009536266326904\n",
      "train loss Generator 0.20739200711250305\n",
      "Epoch: 4\n",
      "train loss Discriminator 0.7028020620346069\n",
      "train loss Generator 0.5951088666915894\n",
      "Epoch: 4\n",
      "train loss Discriminator 0.835745096206665\n",
      "train loss Generator 0.31405001878738403\n",
      "Epoch: 4\n",
      "train loss Discriminator 0.8123177289962769\n",
      "train loss Generator 0.4215276837348938\n",
      "Epoch: 4\n",
      "train loss Discriminator 0.9179059267044067\n",
      "train loss Generator 0.3984867334365845\n",
      "Epoch: 4\n",
      "train loss Discriminator 0.7900601029396057\n",
      "train loss Generator 0.3984867334365845\n",
      "Epoch: 4\n",
      "train loss Discriminator 0.8227322101593018\n",
      "train loss Generator 0.38900667428970337\n",
      "Epoch: 4\n",
      "train loss Discriminator 0.7887136340141296\n",
      "train loss Generator 0.3056492209434509\n",
      "Epoch: 4\n",
      "train loss Discriminator 0.8860023021697998\n",
      "train loss Generator 0.3264002203941345\n",
      "Epoch: 4\n",
      "train loss Discriminator 0.8628501892089844\n",
      "train loss Generator 0.4191718101501465\n",
      "Epoch: 4\n",
      "train loss Discriminator 0.7920801639556885\n",
      "train loss Generator 0.4191718101501465\n",
      "Epoch: 4\n",
      "train loss Discriminator 0.974833071231842\n",
      "train loss Generator 0.28768524527549744\n",
      "Epoch: 4\n",
      "train loss Discriminator 0.830172061920166\n",
      "train loss Generator 0.3965229392051697\n",
      "Epoch: 4\n",
      "train loss Discriminator 0.8665434718132019\n",
      "train loss Generator 0.32240742444992065\n",
      "Epoch: 4\n",
      "train loss Discriminator 0.8077958822250366\n",
      "train loss Generator 0.5024248361587524\n",
      "Epoch : 4 , MAE val:  0.8783565210666098\n",
      "Epoch : 4 , RMSE val:  0.8783565210666098\n",
      "Epoch : 4 , MAPE val:  -0.2785386924817183\n",
      "Epoch : 4 , AR val:  -0.029561643937888262\n",
      "Epoch: 5\n",
      "train loss Discriminator 0.7420463562011719\n",
      "train loss Generator 0.5321404337882996\n",
      "Epoch: 5\n",
      "train loss Discriminator 0.8275368213653564\n",
      "train loss Generator 0.2755325436592102\n",
      "Epoch: 5\n",
      "train loss Discriminator 0.7635207176208496\n",
      "train loss Generator 0.42396748065948486\n",
      "Epoch: 5\n",
      "train loss Discriminator 0.8015037178993225\n",
      "train loss Generator 0.39226311445236206\n",
      "Epoch: 5\n",
      "train loss Discriminator 0.7848021388053894\n",
      "train loss Generator 0.39226311445236206\n",
      "Epoch: 5\n",
      "train loss Discriminator 0.7813607454299927\n",
      "train loss Generator 0.3355085849761963\n",
      "Epoch: 5\n",
      "train loss Discriminator 0.7924124002456665\n",
      "train loss Generator 0.45808345079421997\n",
      "Epoch: 5\n",
      "train loss Discriminator 0.8995873928070068\n",
      "train loss Generator 0.2846528887748718\n",
      "Epoch: 5\n",
      "train loss Discriminator 0.9521487951278687\n",
      "train loss Generator 0.3020378351211548\n",
      "Epoch: 5\n",
      "train loss Discriminator 0.78288334608078\n",
      "train loss Generator 0.3020378351211548\n",
      "Epoch: 5\n",
      "train loss Discriminator 0.7825334072113037\n",
      "train loss Generator 0.3119358420372009\n",
      "Epoch: 5\n",
      "train loss Discriminator 0.8006691932678223\n",
      "train loss Generator 0.4670765995979309\n",
      "Epoch: 5\n",
      "train loss Discriminator 0.9379898905754089\n",
      "train loss Generator 0.2978338599205017\n",
      "Epoch: 5\n",
      "train loss Discriminator 0.8715771436691284\n",
      "train loss Generator 0.3805115818977356\n",
      "Epoch: 5\n",
      "train loss Discriminator 0.7816306352615356\n",
      "train loss Generator 0.3805115818977356\n",
      "Epoch: 5\n",
      "train loss Discriminator 0.7875416874885559\n",
      "train loss Generator 0.27287012338638306\n",
      "Epoch: 5\n",
      "train loss Discriminator 0.7793412208557129\n",
      "train loss Generator 0.38807213306427\n",
      "Epoch: 5\n",
      "train loss Discriminator 0.774864912033081\n",
      "train loss Generator 0.3723331093788147\n",
      "Epoch: 5\n",
      "train loss Discriminator 0.8546781539916992\n",
      "train loss Generator 0.4493570327758789\n",
      "Epoch : 5 , MAE val:  0.8740514876309987\n",
      "Epoch : 5 , RMSE val:  0.8740514876309987\n",
      "Epoch : 5 , MAPE val:  -0.30846889398774013\n",
      "Epoch : 5 , AR val:  -0.026423815412014762\n",
      "Epoch: 6\n",
      "train loss Discriminator 0.8925535678863525\n",
      "train loss Generator 0.3060194253921509\n",
      "Epoch: 6\n",
      "train loss Discriminator 0.8581130504608154\n",
      "train loss Generator 0.41082239151000977\n",
      "Epoch: 6\n",
      "train loss Discriminator 0.8289451003074646\n",
      "train loss Generator 0.5588099956512451\n",
      "Epoch: 6\n",
      "train loss Discriminator 0.8472989797592163\n",
      "train loss Generator 0.4539443850517273\n",
      "Epoch: 6\n",
      "train loss Discriminator 0.7744431495666504\n",
      "train loss Generator 0.4539443850517273\n",
      "Epoch: 6\n",
      "train loss Discriminator 0.9953665733337402\n",
      "train loss Generator 0.17798826098442078\n",
      "Epoch: 6\n",
      "train loss Discriminator 0.8819660544395447\n",
      "train loss Generator 0.4101055860519409\n",
      "Epoch: 6\n",
      "train loss Discriminator 0.8822342157363892\n",
      "train loss Generator 0.26269638538360596\n",
      "Epoch: 6\n",
      "train loss Discriminator 0.792559027671814\n",
      "train loss Generator 0.37595227360725403\n",
      "Epoch: 6\n",
      "train loss Discriminator 0.8265808820724487\n",
      "train loss Generator 0.37595227360725403\n",
      "Epoch: 6\n",
      "train loss Discriminator 0.8149057626724243\n",
      "train loss Generator 0.49746382236480713\n",
      "Epoch: 6\n",
      "train loss Discriminator 0.7209547758102417\n",
      "train loss Generator 0.4553336501121521\n",
      "Epoch: 6\n",
      "train loss Discriminator 0.7858467102050781\n",
      "train loss Generator 0.4345082938671112\n",
      "Epoch: 6\n",
      "train loss Discriminator 0.8294708728790283\n",
      "train loss Generator 0.4579589068889618\n",
      "Epoch: 6\n",
      "train loss Discriminator 0.812113344669342\n",
      "train loss Generator 0.4579589068889618\n",
      "Epoch: 6\n",
      "train loss Discriminator 0.9221765398979187\n",
      "train loss Generator 0.20578593015670776\n",
      "Epoch: 6\n",
      "train loss Discriminator 0.8041805624961853\n",
      "train loss Generator 0.4313642978668213\n",
      "Epoch: 6\n",
      "train loss Discriminator 0.6872421503067017\n",
      "train loss Generator 0.4702996015548706\n",
      "Epoch: 6\n",
      "train loss Discriminator 0.8583568930625916\n",
      "train loss Generator 0.30399543046951294\n",
      "Epoch : 6 , MAE val:  0.8701705160402664\n",
      "Epoch : 6 , RMSE val:  0.8701705160402664\n",
      "Epoch : 6 , MAPE val:  -0.3215655392884272\n",
      "Epoch : 6 , AR val:  -0.03072079989160771\n",
      "Epoch: 7\n",
      "train loss Discriminator 0.8666783571243286\n",
      "train loss Generator 0.3021053373813629\n",
      "Epoch: 7\n",
      "train loss Discriminator 0.8051062822341919\n",
      "train loss Generator 0.40721893310546875\n",
      "Epoch: 7\n",
      "train loss Discriminator 0.8399322032928467\n",
      "train loss Generator 0.5215187072753906\n",
      "Epoch: 7\n",
      "train loss Discriminator 0.8969724178314209\n",
      "train loss Generator 0.32165876030921936\n",
      "Epoch: 7\n",
      "train loss Discriminator 0.8903928399085999\n",
      "train loss Generator 0.32165876030921936\n",
      "Epoch: 7\n",
      "train loss Discriminator 0.8682773113250732\n",
      "train loss Generator 0.3765890598297119\n",
      "Epoch: 7\n",
      "train loss Discriminator 0.8530778288841248\n",
      "train loss Generator 0.35909008979797363\n",
      "Epoch: 7\n",
      "train loss Discriminator 0.6944268941879272\n",
      "train loss Generator 0.4629989266395569\n",
      "Epoch: 7\n",
      "train loss Discriminator 0.8905830979347229\n",
      "train loss Generator 0.4740235209465027\n",
      "Epoch: 7\n",
      "train loss Discriminator 0.8108041286468506\n",
      "train loss Generator 0.4740235209465027\n",
      "Epoch: 7\n",
      "train loss Discriminator 0.795643150806427\n",
      "train loss Generator 0.3448224663734436\n",
      "Epoch: 7\n",
      "train loss Discriminator 0.791154682636261\n",
      "train loss Generator 0.35768377780914307\n",
      "Epoch: 7\n",
      "train loss Discriminator 0.8527406454086304\n",
      "train loss Generator 0.3803245425224304\n",
      "Epoch: 7\n",
      "train loss Discriminator 0.8481075167655945\n",
      "train loss Generator 0.35034024715423584\n",
      "Epoch: 7\n",
      "train loss Discriminator 0.8190350532531738\n",
      "train loss Generator 0.35034024715423584\n",
      "Epoch: 7\n",
      "train loss Discriminator 0.9154261350631714\n",
      "train loss Generator 0.4012923240661621\n",
      "Epoch: 7\n",
      "train loss Discriminator 0.770734429359436\n",
      "train loss Generator 0.5461681485176086\n",
      "Epoch: 7\n",
      "train loss Discriminator 0.8816230297088623\n",
      "train loss Generator 0.2771364450454712\n",
      "Epoch: 7\n",
      "train loss Discriminator 0.7445499897003174\n",
      "train loss Generator 0.48928284645080566\n",
      "Epoch : 7 , MAE val:  0.8671868486044665\n",
      "Epoch : 7 , RMSE val:  0.8671868486044665\n",
      "Epoch : 7 , MAPE val:  -0.3276977228362158\n",
      "Epoch : 7 , AR val:  -0.03551036701812305\n",
      "Epoch: 8\n",
      "train loss Discriminator 0.8101897239685059\n",
      "train loss Generator 0.4590616226196289\n",
      "Epoch: 8\n",
      "train loss Discriminator 0.8336313962936401\n",
      "train loss Generator 0.3546753227710724\n",
      "Epoch: 8\n",
      "train loss Discriminator 0.7712934017181396\n",
      "train loss Generator 0.4854954481124878\n",
      "Epoch: 8\n",
      "train loss Discriminator 0.91058349609375\n",
      "train loss Generator 0.2909229099750519\n",
      "Epoch: 8\n",
      "train loss Discriminator 0.8517804145812988\n",
      "train loss Generator 0.2909229099750519\n",
      "Epoch: 8\n",
      "train loss Discriminator 0.7835805416107178\n",
      "train loss Generator 0.38714611530303955\n",
      "Epoch: 8\n",
      "train loss Discriminator 0.7753536701202393\n",
      "train loss Generator 0.4831418991088867\n",
      "Epoch: 8\n",
      "train loss Discriminator 0.7175885438919067\n",
      "train loss Generator 0.5846400260925293\n",
      "Epoch: 8\n",
      "train loss Discriminator 0.8843334913253784\n",
      "train loss Generator 0.48649919033050537\n",
      "Epoch: 8\n",
      "train loss Discriminator 0.8971376419067383\n",
      "train loss Generator 0.48649919033050537\n",
      "Epoch: 8\n",
      "train loss Discriminator 0.8762311935424805\n",
      "train loss Generator 0.4226505160331726\n",
      "Epoch: 8\n",
      "train loss Discriminator 0.7885710000991821\n",
      "train loss Generator 0.46922361850738525\n",
      "Epoch: 8\n",
      "train loss Discriminator 0.838512659072876\n",
      "train loss Generator 0.44706130027770996\n",
      "Epoch: 8\n",
      "train loss Discriminator 0.8063040971755981\n",
      "train loss Generator 0.3642809987068176\n",
      "Epoch: 8\n",
      "train loss Discriminator 0.8154873847961426\n",
      "train loss Generator 0.3642809987068176\n",
      "Epoch: 8\n",
      "train loss Discriminator 0.9266765713691711\n",
      "train loss Generator 0.45547640323638916\n",
      "Epoch: 8\n",
      "train loss Discriminator 0.9780497550964355\n",
      "train loss Generator 0.2599600553512573\n",
      "Epoch: 8\n",
      "train loss Discriminator 0.8548765182495117\n",
      "train loss Generator 0.3058376610279083\n",
      "Epoch: 8\n",
      "train loss Discriminator 0.7769343852996826\n",
      "train loss Generator 0.36355680227279663\n",
      "Epoch : 8 , MAE val:  0.8637185706625966\n",
      "Epoch : 8 , RMSE val:  0.8637185706625966\n",
      "Epoch : 8 , MAPE val:  -0.3356094399300983\n",
      "Epoch : 8 , AR val:  -0.030453893052094262\n",
      "Epoch: 9\n",
      "train loss Discriminator 0.8169156312942505\n",
      "train loss Generator 0.33157503604888916\n",
      "Epoch: 9\n",
      "train loss Discriminator 0.8645540475845337\n",
      "train loss Generator 0.4355243146419525\n",
      "Epoch: 9\n",
      "train loss Discriminator 0.8009756207466125\n",
      "train loss Generator 0.3230292797088623\n",
      "Epoch: 9\n",
      "train loss Discriminator 0.8236891031265259\n",
      "train loss Generator 0.41451495885849\n",
      "Epoch: 9\n",
      "train loss Discriminator 0.7989494800567627\n",
      "train loss Generator 0.41451495885849\n",
      "Epoch: 9\n",
      "train loss Discriminator 0.6866538524627686\n",
      "train loss Generator 0.5421789884567261\n",
      "Epoch: 9\n",
      "train loss Discriminator 0.8380990624427795\n",
      "train loss Generator 0.360772967338562\n",
      "Epoch: 9\n",
      "train loss Discriminator 0.8068101406097412\n",
      "train loss Generator 0.4908151626586914\n",
      "Epoch: 9\n",
      "train loss Discriminator 0.8638590574264526\n",
      "train loss Generator 0.238068088889122\n",
      "Epoch: 9\n",
      "train loss Discriminator 0.939961314201355\n",
      "train loss Generator 0.238068088889122\n",
      "Epoch: 9\n",
      "train loss Discriminator 0.7706726789474487\n",
      "train loss Generator 0.4675005078315735\n",
      "Epoch: 9\n",
      "train loss Discriminator 0.7573117613792419\n",
      "train loss Generator 0.3714490830898285\n",
      "Epoch: 9\n",
      "train loss Discriminator 0.8398030996322632\n",
      "train loss Generator 0.24072515964508057\n",
      "Epoch: 9\n",
      "train loss Discriminator 0.7057411670684814\n",
      "train loss Generator 0.5070948004722595\n",
      "Epoch: 9\n",
      "train loss Discriminator 0.8977113962173462\n",
      "train loss Generator 0.5070948004722595\n",
      "Epoch: 9\n",
      "train loss Discriminator 0.9319639205932617\n",
      "train loss Generator 0.3291955888271332\n",
      "Epoch: 9\n",
      "train loss Discriminator 0.9578840732574463\n",
      "train loss Generator 0.3521541953086853\n",
      "Epoch: 9\n",
      "train loss Discriminator 0.7905738353729248\n",
      "train loss Generator 0.45658019185066223\n",
      "Epoch: 9\n",
      "train loss Discriminator 0.878635048866272\n",
      "train loss Generator 0.3317374587059021\n",
      "Epoch : 9 , MAE val:  0.8598862550488346\n",
      "Epoch : 9 , RMSE val:  0.8598862550488346\n",
      "Epoch : 9 , MAPE val:  -0.3446533470250013\n",
      "Epoch : 9 , AR val:  -0.028255496364511638\n"
     ]
    }
   ],
   "source": [
    "lambda1=0.5\n",
    "lambda2=0.5\n",
    "\n",
    "train_loss_disc=[]\n",
    "train_loss_gen=[]\n",
    "for epoch in range(N_epochs):\n",
    "    Discriminator.train()\n",
    "    generator.train()\n",
    "    for itera, batch in enumerate(train_loader):\n",
    "        #now target is just close price\n",
    "\n",
    "        X_data, target = batch \n",
    "        \n",
    "        X_data=X_data.to(device)\n",
    "        target=target.to(device)\n",
    "        #data is normalised\n",
    "        bs=target.shape[0]\n",
    "        #zeroes??\n",
    "        fake_labels=torch.zeros([bs, 1]).to(device)\n",
    "        true_labels=torch.ones([bs, 1]).to(device)\n",
    "        \n",
    "        gen_output=generator(X_data).detach()\n",
    "        #vector of close prices \n",
    "        sequnce_6days=torch.cat([X_data[:,:,3], gen_output], dim=1)\n",
    "        \n",
    "        D_gen_loss=criteria(Discriminator(sequnce_6days), fake_labels)\n",
    "        # index of close price is 3 \n",
    "        \n",
    "        true_seqeunce=torch.cat([X_data[:,:,3], target[:, None]],axis=1)\n",
    "        # true_seqeunce Size is [bs, seq_len+1]\n",
    "  \n",
    "        D_true_loss=criteria(Discriminator(true_seqeunce), true_labels)\n",
    "        \n",
    "        D_loss = D_true_loss+D_gen_loss\n",
    "        \n",
    "        D_opt.zero_grad()\n",
    "        D_loss.backward()\n",
    "        D_opt.step()\n",
    "        \n",
    "        if itera%5:\n",
    "            #let us train generator:\n",
    "            gen_output=generator(X_data)\n",
    "            #target is close price \n",
    "            \n",
    "            # gen_output [bs,1] target [bs,] is meaned over batche items\n",
    "            G_mse=torch.mean((gen_output-target[:,None])**2)\n",
    "            \n",
    "            sequnce_6days=torch.cat([X_data[:,:,3], gen_output], dim=1)\n",
    "            \n",
    "            G_logloss=-criteria(Discriminator(sequnce_6days), fake_labels)\n",
    "          \n",
    "            G_loss= lambda1*G_logloss + lambda2*G_mse\n",
    "          \n",
    "            G_opt.zero_grad()\n",
    "            G_loss.backward()\n",
    "            G_opt.step()\n",
    "        \n",
    "        # model.eval()\n",
    "        \n",
    "        if itera%100:\n",
    "\n",
    "            if itera%1000:\n",
    "                print('Epoch:',epoch)\n",
    "                print('train loss Discriminator',D_loss.item())\n",
    "                print('train loss Generator',G_loss.item())\n",
    "                \n",
    "            train_loss_disc.append(D_loss.item())\n",
    "            train_loss_gen.append(G_loss.item())\n",
    "      \n",
    "    generator.eval()\n",
    "    Discriminator.eval()\n",
    "\n",
    "\n",
    "    generated_seqeunce_val=[]\n",
    "    target_seqeunce_val=[]\n",
    "    with torch.no_grad():\n",
    "\n",
    "      mae_test=0\n",
    "      rmse_test=0\n",
    "      mape_test=0\n",
    "      ar_test=0\n",
    "      for iter, batch in enumerate(val_loader):\n",
    "          data, target=batch\n",
    "          data = data.to(device)\n",
    "          target = target.to(device)\n",
    "          generator_output=generator(data).detach()         \n",
    "          generator_output= generator_output.squeeze(0)\n",
    "        \n",
    "          generated_seqeunce_val.append(generator_output.item())  \n",
    "          target_seqeunce_val.append(target.item()) \n",
    "          mae_test+=torch.mean(torch.abs(generator_output-target)).item()\n",
    "          rmse_test += torch.sqrt(torch.mean((generator_output-target)**2)).item()\n",
    "          mape_test+=torch.mean(torch.abs(generator_output-target)/(target+0.0000001)).item()\n",
    "          if iter>0:\n",
    "              if generated_seqeunce_val[iter]>generated_seqeunce_val[iter-1]:\n",
    "                  ar_test+=target_seqeunce_val[iter]-target_seqeunce_val[iter-1]\n",
    "          \n",
    "      mae_test=mae_test/len(val_loader)\n",
    "      rmse_test=rmse_test/len(val_loader)\n",
    "      mape_test=mape_test/len(val_loader)\n",
    "      ar_test=ar_test/(len(val_loader)-1)\n",
    "      print('Epoch :',epoch,', MAE val: ',mae_test)\n",
    "      print('Epoch :',epoch,', RMSE val: ',rmse_test)\n",
    "      print('Epoch :',epoch,', MAPE val: ',mape_test)\n",
    "      print('Epoch :',epoch,', AR val: ',ar_test)\n",
    "\n",
    "            "
   ]
  },
  {
   "cell_type": "markdown",
   "metadata": {
    "id": "K0IHTABowBTz"
   },
   "source": [
    "Validation of the model for SSE close price"
   ]
  },
  {
   "cell_type": "code",
   "execution_count": 15,
   "metadata": {
    "colab": {
     "base_uri": "https://localhost:8080/"
    },
    "id": "yBYAEixNygjw",
    "outputId": "c538c25a-82d5-4d0a-a921-496726084f04"
   },
   "outputs": [
    {
     "name": "stdout",
     "output_type": "stream",
     "text": [
      "Epoch : 99 , MAE val:  0.8169731690111955\n",
      "Epoch : 99 , RMSE val:  0.8169731690111955\n",
      "Epoch : 99 , MAPE val:  -0.1039176072476734\n",
      "Epoch : 99 , AR val:  -0.054015425107103734\n"
     ]
    }
   ],
   "source": [
    "print('Epoch :',epoch,', MAE val: ',mae_test)\n",
    "print('Epoch :',epoch,', RMSE val: ',rmse_test)\n",
    "print('Epoch :',epoch,', MAPE val: ',mape_test)\n",
    "print('Epoch :',epoch,', AR val: ',ar_test)"
   ]
  },
  {
   "cell_type": "code",
   "execution_count": 16,
   "metadata": {
    "colab": {
     "base_uri": "https://localhost:8080/"
    },
    "id": "fuL9lHDnmggi",
    "outputId": "ef265950-6273-4c07-b601-28291c8a73f3"
   },
   "outputs": [
    {
     "name": "stdout",
     "output_type": "stream",
     "text": [
      "MAE val:  0.8169731690111955\n",
      "RMSE val:  0.8169731690111955\n",
      "MAPE val:  -0.1039176072476734\n",
      "AR val:  -0.054015425107103734\n"
     ]
    }
   ],
   "source": [
    "val_dataset=StockDataset(SP500[2000:])\n",
    "val_dataset.data=val_dataset.data.reset_index().drop('index',axis=1)\n",
    "val_loader = DataLoader(val_dataset, batch_size=1, shuffle=False)\n",
    "\n",
    "generator.eval()\n",
    "\n",
    "generated_seqeunce_val=[]\n",
    "target_seqeunce_val=[]\n",
    "with torch.no_grad():\n",
    "\n",
    "  mae_test=0\n",
    "  rmse_test=0\n",
    "  mape_test=0\n",
    "  ar_test=0\n",
    "  for iter, batch in enumerate(val_loader):\n",
    "      data, target=batch\n",
    "      data = data.to(device)\n",
    "      target = target.to(device)\n",
    "      generator_output=generator(data).detach()         \n",
    "      generator_output= generator_output.squeeze(0)\n",
    "     \n",
    "      generated_seqeunce_val.append(generator_output.item())  \n",
    "      target_seqeunce_val.append(target.item()) \n",
    "      \n",
    "      mae_test+=torch.mean(torch.abs(generator_output-target)).item()\n",
    "      rmse_test += torch.sqrt(torch.mean((generator_output-target)**2)).item()\n",
    "      mape_test+=torch.mean(torch.abs(generator_output-target)/(target+0.0000001)).item()\n",
    "      if iter>0:\n",
    "          if generated_seqeunce_val[iter]>generated_seqeunce_val[iter-1]:\n",
    "              ar_test+=target_seqeunce_val[iter]-target_seqeunce_val[iter-1]\n",
    "      \n",
    "  mae_test=mae_test/len(val_loader)\n",
    "  rmse_test=rmse_test/len(val_loader)\n",
    "  mape_test=mape_test/len(val_loader)\n",
    "  ar_test=ar_test/(len(val_loader)-1)\n",
    "  print('MAE val: ',mae_test)\n",
    "  print('RMSE val: ',rmse_test)\n",
    "  print('MAPE val: ',mape_test)\n",
    "  print('AR val: ',ar_test)\n",
    "\n",
    "\n",
    "\n",
    "  #print(f'Epoch {epoch} \\t Train loss {train_loss} \\t Test loss {test_loss}')"
   ]
  },
  {
   "cell_type": "code",
   "execution_count": 20,
   "metadata": {
    "colab": {
     "base_uri": "https://localhost:8080/",
     "height": 782.0
    },
    "id": "SjqvpUfw0kTi",
    "outputId": "f044d0eb-85fc-4ae9-903c-7d3a31699d57"
   },
   "outputs": [
    {
     "data": {
      "text/plain": [
       "<matplotlib.legend.Legend at 0x7f916e198910>"
      ]
     },
     "execution_count": 20,
     "metadata": {
      "tags": []
     },
     "output_type": "execute_result"
    },
    {
     "data": {
      "image/png": "[encoded data removed]",
      "text/plain": [
       "<Figure size 432x288 with 1 Axes>"
      ]
     },
     "metadata": {
      "tags": [],
      "needs_background": "light"
     },
     "output_type": "display_data"
    },
    {
     "data": {
      "image/png": "[encoded data removed]",
      "text/plain": [
       "<Figure size 576x576 with 1 Axes>"
      ]
     },
     "metadata": {
      "tags": [],
      "needs_background": "light"
     },
     "output_type": "display_data"
    }
   ],
   "source": [
    "import matplotlib.pyplot as plt\n",
    "%matplotlib inline\n",
    "plt.xlabel('time')\n",
    "plt.ylabel('Close price')\n",
    "plt.figure(figsize=[8,8])\n",
    "plt.title('Generated close price vs true sequence SP500')\n",
    "plt.plot(generated_seqeunce_val*SP500.loc[2000+5:, 'STD5_close']+SP500.loc[2000+5:,'MA5_close'],label='generated',c='blue')\n",
    "plt.plot(SP500.loc[2000+5:,'Close'], label='true target',c='red')\n",
    "plt.plot(SP500.loc[2000+5:,'MA5_close'], label='moving average',c='green')\n",
    "plt.legend()\n"
   ]
  },
  {
   "cell_type": "code",
   "execution_count": 18,
   "metadata": {
    "colab": {
     "base_uri": "https://localhost:8080/",
     "height": 421.0
    },
    "id": "8Nlb_Dq3ehRS",
    "outputId": "cdbe7ce5-d605-4b71-9262-a440b557a14a"
   },
   "outputs": [
    {
     "data": {
      "text/plain": [
       "Text(0, 0.5, 'Train Loss')"
      ]
     },
     "execution_count": 18,
     "metadata": {
      "tags": []
     },
     "output_type": "execute_result"
    },
    {
     "data": {
      "image/png": "[encoded data removed]",
      "text/plain": [
       "<Figure size 864x432 with 2 Axes>"
      ]
     },
     "metadata": {
      "tags": [],
      "needs_background": "light"
     },
     "output_type": "display_data"
    }
   ],
   "source": [
    "import matplotlib.pyplot as plt\n",
    "%matplotlib inline\n",
    "fig, axs=plt.subplots(nrows=1,ncols=2,figsize=[12,6])\n",
    "\n",
    "axs[0].set_title('Train loss Discriminator')\n",
    "axs[0].plot(train_loss_disc)\n",
    "axs[1].set_title('Train loss Generator')\n",
    "axs[1].plot(train_loss_gen)\n",
    "\n",
    "#\n",
    "axs[1].set_xlabel('time')\n",
    "axs[0].set_xlabel('time')\n",
    "axs[0].set_ylabel('Train Loss')\n",
    "axs[1].set_ylabel('Train Loss')"
   ]
  },
  {
   "cell_type": "code",
   "execution_count": 19,
   "metadata": {
    "id": "Wx-3Ii4mxAMf"
   },
   "outputs": [],
   "source": [
    "train_all = DataLoader(train_dataset, batch_size=2000, shuffle=True)\n",
    "\n",
    "\n",
    "for X_all, target in train_all:\n",
    "  X_all,target=X_all.to(device),target.to(device)\n",
    "  gen_output=generator(X_all)\n",
    " \n",
    " "
   ]
  },
  {
   "cell_type": "code",
   "execution_count": 20,
   "metadata": {
    "id": "iBRkVlwmKaRs"
   },
   "outputs": [],
   "source": [
    "gen_output=gen_output.detach().cpu().numpy()"
   ]
  },
  {
   "cell_type": "code",
   "execution_count": 21,
   "metadata": {
    "colab": {
     "base_uri": "https://localhost:8080/"
    },
    "id": "NrAHWyCtLNDo",
    "outputId": "b12b162b-1454-4253-c0a1-feee7502e801"
   },
   "outputs": [
    {
     "data": {
      "text/plain": [
       "6       1143.104970\n",
       "7       1144.459580\n",
       "8       1142.826094\n",
       "9       1148.982340\n",
       "10      1143.679117\n",
       "           ...     \n",
       "1996    2639.636921\n",
       "1997    2640.917250\n",
       "1998    2650.641812\n",
       "1999    2651.074648\n",
       "2000    2659.963042\n",
       "Length: 1995, dtype: float64"
      ]
     },
     "execution_count": 21,
     "metadata": {
      "tags": []
     },
     "output_type": "execute_result"
    }
   ],
   "source": [
    "list(gen_output.squeeze(1))*SP500.loc[6:2000, 'STD5_close']+SP500.loc[6:2000,'MA5_close']"
   ]
  },
  {
   "cell_type": "code",
   "execution_count": 22,
   "metadata": {
    "colab": {
     "base_uri": "https://localhost:8080/",
     "height": 530.0
    },
    "id": "IqNpaebOKXeS",
    "outputId": "69017747-6c70-410c-9974-a907f8ebf12c"
   },
   "outputs": [
    {
     "data": {
      "text/plain": [
       "Text(0, 0.5, 'closing price')"
      ]
     },
     "execution_count": 22,
     "metadata": {
      "tags": []
     },
     "output_type": "execute_result"
    },
    {
     "data": {
      "image/png": "[encoded data removed]",
      "text/plain": [
       "<Figure size 576x576 with 1 Axes>"
      ]
     },
     "metadata": {
      "tags": [],
      "needs_background": "light"
     },
     "output_type": "display_data"
    }
   ],
   "source": [
    "plt.figure(figsize=[8,8])\n",
    "plt.title('Training prediction')\n",
    "plt.plot(list(gen_output.squeeze(1))*SP500.loc[6:2000, 'STD5_close']+SP500.loc[6:2000,'MA5_close'] ,label='generated on train')\n",
    "plt.plot(SP500.loc[6:2000,'Close'],label='true price')\n",
    "plt.legend()\n",
    "plt.xlabel('time')\n",
    "plt.ylabel('closing price')"
   ]
  },
  {
   "cell_type": "code",
   "execution_count": 23,
   "metadata": {
    "colab": {
     "base_uri": "https://localhost:8080/",
     "height": 215.0
    },
    "id": "wdujDC66YQgg",
    "outputId": "584c1220-d3ae-419f-d1b7-1ee6987747fa"
   },
   "outputs": [
    {
     "ename": "AttributeError",
     "evalue": "ignored",
     "traceback": [
      "\u001b[0;31m---------------------------------------------------------------------------\u001b[0m",
      "\u001b[0;31mAttributeError\u001b[0m                            Traceback (most recent call last)",
      "\u001b[0;32m<ipython-input-23-307529148d11>\u001b[0m in \u001b[0;36m<module>\u001b[0;34m()\u001b[0m\n\u001b[1;32m      1\u001b[0m \u001b[0;34m\u001b[0m\u001b[0m\n\u001b[0;32m----> 2\u001b[0;31m \u001b[0mplt\u001b[0m\u001b[0;34m.\u001b[0m\u001b[0mplot\u001b[0m\u001b[0;34m(\u001b[0m\u001b[0mgen_output\u001b[0m\u001b[0;34m.\u001b[0m\u001b[0mdetach\u001b[0m\u001b[0;34m(\u001b[0m\u001b[0;34m)\u001b[0m\u001b[0;34m.\u001b[0m\u001b[0mcpu\u001b[0m\u001b[0;34m(\u001b[0m\u001b[0;34m)\u001b[0m\u001b[0;34m,\u001b[0m \u001b[0mlabel\u001b[0m\u001b[0;34m=\u001b[0m\u001b[0;34m'generated x'\u001b[0m\u001b[0;34m)\u001b[0m\u001b[0;34m\u001b[0m\u001b[0;34m\u001b[0m\u001b[0m\n\u001b[0m\u001b[1;32m      3\u001b[0m \u001b[0mplt\u001b[0m\u001b[0;34m.\u001b[0m\u001b[0mplot\u001b[0m\u001b[0;34m(\u001b[0m\u001b[0mtarget\u001b[0m\u001b[0;34m.\u001b[0m\u001b[0mdetach\u001b[0m\u001b[0;34m(\u001b[0m\u001b[0;34m)\u001b[0m\u001b[0;34m.\u001b[0m\u001b[0mcpu\u001b[0m\u001b[0;34m(\u001b[0m\u001b[0;34m)\u001b[0m\u001b[0;34m,\u001b[0m \u001b[0mlabel\u001b[0m\u001b[0;34m=\u001b[0m\u001b[0;34m'target'\u001b[0m\u001b[0;34m)\u001b[0m\u001b[0;34m\u001b[0m\u001b[0;34m\u001b[0m\u001b[0m\n\u001b[1;32m      4\u001b[0m \u001b[0mplt\u001b[0m\u001b[0;34m.\u001b[0m\u001b[0mlegend\u001b[0m\u001b[0;34m(\u001b[0m\u001b[0;34m)\u001b[0m\u001b[0;34m\u001b[0m\u001b[0;34m\u001b[0m\u001b[0m\n",
      "\u001b[0;31mAttributeError\u001b[0m: 'numpy.ndarray' object has no attribute 'detach'"
     ],
     "output_type": "error"
    }
   ],
   "source": [
    "\n",
    "plt.plot(gen_output.detach().cpu(), label='generated x')\n",
    "plt.plot(target.detach().cpu(), label='target')\n",
    "plt.legend()"
   ]
  },
  {
   "cell_type": "code",
   "execution_count": null,
   "metadata": {
    "id": "kI0-3vi0Y9_c"
   },
   "outputs": [],
   "source": [
    "plot_diff=gen_output.squeeze(1).detach().cpu().numpy()-target.detach().cpu().numpy()\n",
    "plt.plot(plot_diff)"
   ]
  },
  {
   "cell_type": "code",
   "execution_count": null,
   "metadata": {
    "id": "M9mf9mGTZgOy"
   },
   "outputs": [],
   "source": [
    "plot_diff.shape"
   ]
  },
  {
   "cell_type": "code",
   "execution_count": null,
   "metadata": {
    "id": "d3ger_qbXYM9"
   },
   "outputs": [],
   "source": [
    "plt.hist(plot_diff,bins=40)"
   ]
  }
 ],
 "metadata": {
  "colab": {
   "name": "Stock_pred_gan_yana_SP500.ipynb",
   "provenance": [],
   "collapsed_sections": []
  },
  "kernelspec": {
   "name": "python3",
   "display_name": "Python 3"
  },
  "language_info": {
   "name": "python"
  },
  "accelerator": "GPU"
 },
 "nbformat": 4,
 "nbformat_minor": 0
}
